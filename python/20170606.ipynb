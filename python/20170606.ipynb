{
 "cells": [
  {
   "cell_type": "markdown",
   "metadata": {},
   "source": [
    "# demo curriculum for GWC, python based"
   ]
  },
  {
   "cell_type": "markdown",
   "metadata": {},
   "source": [
    "## Part 1 - core concepts\n",
    "Taken from https://docs.python.org/3/tutorial/introduction.html#using-python-as-a-calculator "
   ]
  },
  {
   "cell_type": "markdown",
   "metadata": {},
   "source": [
    "### Part 1.1 - variables: numbers, strings, lists and dictionaries"
   ]
  },
  {
   "cell_type": "code",
   "execution_count": 2,
   "metadata": {
    "collapsed": false
   },
   "outputs": [
    {
     "data": {
      "text/plain": [
       "74"
      ]
     },
     "execution_count": 2,
     "metadata": {},
     "output_type": "execute_result"
    }
   ],
   "source": [
    "130 - 8 * 7"
   ]
  },
  {
   "cell_type": "code",
   "execution_count": 3,
   "metadata": {
    "collapsed": false
   },
   "outputs": [
    {
     "data": {
      "text/plain": [
       "900"
      ]
     },
     "execution_count": 3,
     "metadata": {},
     "output_type": "execute_result"
    }
   ],
   "source": [
    "width = 20\n",
    "height = 5 * 9\n",
    "width * height"
   ]
  },
  {
   "cell_type": "code",
   "execution_count": 4,
   "metadata": {
    "collapsed": false
   },
   "outputs": [
    {
     "data": {
      "text/plain": [
       "900"
      ]
     },
     "execution_count": 4,
     "metadata": {},
     "output_type": "execute_result"
    }
   ],
   "source": [
    "area = width * height\n",
    "area"
   ]
  },
  {
   "cell_type": "code",
   "execution_count": 5,
   "metadata": {
    "collapsed": false
   },
   "outputs": [
    {
     "data": {
      "text/plain": [
       "'20170606demo'"
      ]
     },
     "execution_count": 5,
     "metadata": {},
     "output_type": "execute_result"
    }
   ],
   "source": [
    "date = '20170606'\n",
    "proj = 'demo'\n",
    "filename = date + proj\n",
    "filename "
   ]
  },
  {
   "cell_type": "code",
   "execution_count": 6,
   "metadata": {
    "collapsed": true
   },
   "outputs": [],
   "source": [
    "dayName = ['Sun', 'Mon', 'Tue', 'Wed', 'Thu', 'Fri', 'Sat']\n",
    "dayNum = [0, 1, 2, 3, 4, 5, 6]"
   ]
  },
  {
   "cell_type": "code",
   "execution_count": 7,
   "metadata": {
    "collapsed": false
   },
   "outputs": [
    {
     "data": {
      "text/plain": [
       "['Sun', 'Mon', 'Tue', 'Wed', 'Thu', 'Fri', 'Sat']"
      ]
     },
     "execution_count": 7,
     "metadata": {},
     "output_type": "execute_result"
    }
   ],
   "source": [
    "dayName"
   ]
  },
  {
   "cell_type": "code",
   "execution_count": 8,
   "metadata": {
    "collapsed": false
   },
   "outputs": [
    {
     "data": {
      "text/plain": [
       "[0, 1, 2, 3, 4, 5, 6]"
      ]
     },
     "execution_count": 8,
     "metadata": {},
     "output_type": "execute_result"
    }
   ],
   "source": [
    "dayNum"
   ]
  },
  {
   "cell_type": "code",
   "execution_count": 10,
   "metadata": {
    "collapsed": false
   },
   "outputs": [
    {
     "data": {
      "text/plain": [
       "3"
      ]
     },
     "execution_count": 10,
     "metadata": {},
     "output_type": "execute_result"
    }
   ],
   "source": [
    "day = {'Sun':0, 'Mon':1, 'Tue':2, 'Wed':3, 'Thu':4, 'Fri':5, 'Sat':6}\n",
    "day['Wed']"
   ]
  },
  {
   "cell_type": "markdown",
   "metadata": {},
   "source": [
    "### Part 1.2 - `If` statement"
   ]
  },
  {
   "cell_type": "markdown",
   "metadata": {},
   "source": [
    "### Part 1.3 - `For` statement"
   ]
  },
  {
   "cell_type": "markdown",
   "metadata": {},
   "source": [
    "### Part 1.4 Defining functions"
   ]
  },
  {
   "cell_type": "markdown",
   "metadata": {},
   "source": [
    "## Part 2 - OOP"
   ]
  },
  {
   "cell_type": "markdown",
   "metadata": {},
   "source": [
    "## Part 3 - File I/O"
   ]
  },
  {
   "cell_type": "code",
   "execution_count": 5,
   "metadata": {
    "collapsed": true
   },
   "outputs": [],
   "source": [
    "f = open(\"20170606_movie.tsv\")\n",
    "lines = f.readlines()\n",
    "f.close()"
   ]
  },
  {
   "cell_type": "code",
   "execution_count": 8,
   "metadata": {
    "collapsed": false
   },
   "outputs": [
    {
     "data": {
      "text/plain": [
       "63"
      ]
     },
     "execution_count": 8,
     "metadata": {},
     "output_type": "execute_result"
    }
   ],
   "source": [
    "lineCount = len(lines)\n",
    "lineCount"
   ]
  },
  {
   "cell_type": "code",
   "execution_count": 41,
   "metadata": {
    "collapsed": false,
    "scrolled": true
   },
   "outputs": [
    {
     "name": "stdout",
     "output_type": "stream",
     "text": [
      "['836', 'LotR: Return of the King', '2003', '8.9', '201', '1981']\n",
      "['610', 'Kingdom of Heaven', '2005', '7.2', '144', '1977']\n",
      "['600', '300', '2007', '7.7', '117', '1969']\n",
      "['572', 'Troy', '2004', '7.2', '163', '1963']\n",
      "['558', 'The Last Samurai', '2003', '7.7', '154', '1962']\n",
      "['468', 'LotR: Two Towers', '2002', '8.7', '179', '1981']\n",
      "['310', 'Grindhouse: Double Feature', '2007', '7.6', '191', '1951']\n",
      "['305', 'We Were Soldiers', '2002', '7.2', '138', '1956']\n",
      "['247', 'Rambo', '2008', '7.1', '92', '1946']\n",
      "['236', 'Equilibrium', '2002', '7.5', '107', '1974']\n",
      "['187', 'Blood Diamond', '2006', '8.0', '143', '1974']\n",
      "['187', 'The Chronicles of Riddick', '2004', '6.7', '119', '1967']\n",
      "['153', 'Pearl Harbor', '2001', '6.1', '183', '1972']\n",
      "['152', 'Hero', '2002', '7.9', '99', '1963']\n",
      "['151', \"Shoot 'Em Up\", '2007', '6.7', '86', '1964']\n",
      "['141', 'House of the Dead', '2003', '2.0', '90', '1978']\n",
      "['140', 'Blade: Trinity', '2004', '5.9', '113', '1962']\n",
      "['131', 'Dawn of the Dead', '2004', '7.4', '101', '1979']\n",
      "['127', 'Versus', '2000', '6.5', '119', '1975']\n",
      "['124', 'Resident Evil: Extinction', '2007', '6.3', '94', '1975']\n",
      "['123', 'The Patriot', '2000', '7.1', '165', '1956']\n",
      "['123', 'Resident Evil: Apocalypse', '2004', '6.2', '94', '1975']\n",
      "['118', 'LotR: Fellowship of the Ring', '2001', '8.8', '178', '1981']\n",
      "['114', 'Apocalypto', '2006', '7.8', '139', '1970']\n",
      "['115', 'Aliens vs. Predator: Requiem', '2007', '4.7', '94', '1972']\n",
      "['115', 'Star Wars III: Revenge of the Sith', '2005', '7.6', '140', '1981']\n",
      "['105', 'The Scorpion King', '2002', '5.5', '92', '1972']\n",
      "['102', 'BloodRayne', '2006', '2.9', '95', '1979']\n",
      "['99', 'Once Upon a Time in Mexico', '2003', '6.4', '102', '1960']\n",
      "['98', 'Blade II', '2002', '6.7', '117', '1962']\n",
      "['97', 'War', '2007', '6.3', '103', '1963']\n",
      "['95', 'Kill Bill: Vol. 1', '2003', '8.1', '111', '1970']\n",
      "['93', 'Flags of Our Fathers', '2006', '7.1', '135', '1974']\n",
      "['91', 'Ritana', '2002', '6.5', '116', '1973']\n",
      "['90', \"Pirates of the Caribbean: Dead Man's Chest\", '2006', '7.3', '151', '1963']\n",
      "['86', 'Lion, the Witch & the Wardrobe', '2005', '6.9', '143', '1960']\n",
      "['84', 'Letters from Iwo Jima', '2006', '7.9', '141', '1959']\n",
      "['78', 'Team America', '2004', '7.2', '98', '1969']\n",
      "['77', 'Children of Men', '2007', '7.9', '109', '1960']\n",
      "['77', 'Gladiator', '2000', '8.5', '155', '1964']\n",
      "['76', 'Indiana Jones & the Kingdom of the Crystal Skull', '2008', '6.2', '122', '1942']\n",
      "['75', 'XXX', '2002', '5.8', '124', '1967']\n",
      "['74', 'Serenity', '2005', '7.9', '119', '1971']\n",
      "['73', 'War, Inc.', '2008', '5.7', '107', '1966']\n",
      "['71', 'I Am Legend', '2007', '7.2', '101', '1968']\n",
      "['68', 'Sahara', '2005', '6.0', '124', '1969']\n",
      "['66', 'xXx: State of the Union', '2005', '4.4', '101', '1969']\n",
      "['65', 'Timeline', '2003', '5.6', '116', '1973']\n",
      "['63', 'Bad Boys 2', '2003', '6.6', '147', '1968']\n",
      "['60', 'Shaun of the Dead', '2004', '8.0', '99', '1970']\n",
      "['60', 'Snakes on a Plane', '2006', '5.6', '105', '1948']\n",
      "['59', 'V for Vendetta', '2006', '8.2', '132', '1960']\n",
      "['58', 'Underworld', '2003', '7.0', '121', '1973']\n",
      "['57', 'Iron Man', '2008', '7.9', '126', '1965']\n",
      "['57', 'X-Men: The Last stand', '2006', '6.7', '104', '1940']\n",
      "['56', 'The Musketeer', '2001', '4.7', '104', '1970']\n",
      "['55', 'Hitman', '2007', '6.3', '100', '1968']\n",
      "['55', 'Star Wars II: Attack of the Clones', '2002', '6.6', '142', '1981']\n",
      "['54', 'Casino Royale', '2006', '8.0', '162', '1968']\n",
      "['54', 'Star Trek: Nemesis', '2002', '6.4', '116', '1940']\n",
      "['53', 'Sin City', '2005', '8.0', '124', '1952']\n",
      "['53', 'Vampires: The Turning', '2005', '3.3', '84', '1973']\n",
      "['52', 'Ghost Rider', '2007', '5.2', '114', '1964']\n"
     ]
    }
   ],
   "source": [
    "dead = [None]*lineCount\n",
    "movie = [None]*lineCount\n",
    "year = [None]*lineCount\n",
    "imdb = [None]*lineCount\n",
    "length = [None]*lineCount\n",
    "actor_year = [None]*lineCount\n",
    "\n",
    "for i in range(0, lineCount, 1):\n",
    "    infoDetail = lines[i].rstrip().split('\\t')\n",
    "    print(infoDetail)\n",
    "    dead[i] = int(infoDetail[0])\n",
    "    movie[i] = infoDetail[1]\n",
    "    year[i] = int(infoDetail[2])\n",
    "    imdb[i] = float(infoDetail[3])\n",
    "    length[i] = int(infoDetail[4])\n",
    "    actor_year[i] = int(infoDetail[5])"
   ]
  },
  {
   "cell_type": "code",
   "execution_count": null,
   "metadata": {
    "collapsed": false
   },
   "outputs": [],
   "source": []
  },
  {
   "cell_type": "markdown",
   "metadata": {},
   "source": [
    "## Part 4- Exploring Data"
   ]
  },
  {
   "cell_type": "code",
   "execution_count": 26,
   "metadata": {
    "collapsed": false
   },
   "outputs": [],
   "source": [
    "import matplotlib.pyplot as plt\n",
    "%matplotlib inline"
   ]
  },
  {
   "cell_type": "code",
   "execution_count": 42,
   "metadata": {
    "collapsed": false
   },
   "outputs": [
    {
     "data": {
      "text/plain": [
       "[<matplotlib.lines.Line2D at 0x7f6d732c4ed0>]"
      ]
     },
     "execution_count": 42,
     "metadata": {},
     "output_type": "execute_result"
    },
    {
     "data": {
      "image/png": "[encoded data removed]",
      "text/plain": [
       "<matplotlib.figure.Figure at 0x7f6d72f4afd0>"
      ]
     },
     "metadata": {},
     "output_type": "display_data"
    }
   ],
   "source": [
    "plt.plot(dead)"
   ]
  },
  {
   "cell_type": "markdown",
   "metadata": {},
   "source": [
    "## Part 5 - Visualizing and Understanding Data"
   ]
  },
  {
   "cell_type": "code",
   "execution_count": 43,
   "metadata": {
    "collapsed": false
   },
   "outputs": [
    {
     "data": {
      "text/plain": [
       "[<matplotlib.lines.Line2D at 0x7f6d73299f10>]"
      ]
     },
     "execution_count": 43,
     "metadata": {},
     "output_type": "execute_result"
    },
    {
     "data": {
      "image/png": "[encoded data removed]",
      "text/plain": [
       "<matplotlib.figure.Figure at 0x7f6d73168a50>"
      ]
     },
     "metadata": {},
     "output_type": "display_data"
    }
   ],
   "source": [
    "plt.plot(actor_year, dead, 'ro')"
   ]
  },
  {
   "cell_type": "code",
   "execution_count": 47,
   "metadata": {
    "collapsed": false
   },
   "outputs": [
    {
     "data": {
      "text/plain": [
       "(array([  1.,   2.,   0.,   3.,   1.,   8.,  15.,  13.,  16.,   4.]),\n",
       " array([ 2.  ,  2.69,  3.38,  4.07,  4.76,  5.45,  6.14,  6.83,  7.52,\n",
       "         8.21,  8.9 ]),\n",
       " <a list of 10 Patch objects>)"
      ]
     },
     "execution_count": 47,
     "metadata": {},
     "output_type": "execute_result"
    },
    {
     "data": {
      "image/png": "[encoded data removed]",
      "text/plain": [
       "<matplotlib.figure.Figure at 0x7f6d72eb1b90>"
      ]
     },
     "metadata": {},
     "output_type": "display_data"
    }
   ],
   "source": [
    "plt.hist(imdb)"
   ]
  },
  {
   "cell_type": "code",
   "execution_count": null,
   "metadata": {
    "collapsed": true
   },
   "outputs": [],
   "source": []
  }
 ],
 "metadata": {
  "anaconda-cloud": {},
  "kernelspec": {
   "display_name": "Python [Root]",
   "language": "python",
   "name": "Python [Root]"
  },
  "language_info": {
   "codemirror_mode": {
    "name": "ipython",
    "version": 2
   },
   "file_extension": ".py",
   "mimetype": "text/x-python",
   "name": "python",
   "nbconvert_exporter": "python",
   "pygments_lexer": "ipython2",
   "version": "2.7.12"
  }
 },
 "nbformat": 4,
 "nbformat_minor": 1
}
