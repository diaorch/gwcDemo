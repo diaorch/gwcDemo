{
 "cells": [
  {
   "cell_type": "markdown",
   "metadata": {},
   "source": [
    "# Basics and Lists: Challenge Question 4\n",
    "## Meal prep of the week\n",
    "### Goal: practice selecting and subetting a list, and changing elements in a list"
   ]
  },
  {
   "cell_type": "markdown",
   "metadata": {},
   "source": [
    "Here are the constants that you are going to need:"
   ]
  },
  {
   "cell_type": "code",
   "execution_count": 1,
   "metadata": {
    "collapsed": true
   },
   "outputs": [],
   "source": [
    "days = ['Monday', 'Tuesday', 'Wednesday', 'Thursday', 'Friday', 'Saturday', 'Sunday']\n",
    "breakfasts = ['Hash brown', 'Breakfast burrito', 'Pancake', 'Waffle', 'Oatmeal', 'Yogurt', 'Random']"
   ]
  },
  {
   "cell_type": "markdown",
   "metadata": {},
   "source": [
    "We know that the 1st day of October, 2017 was a Sunday. Can you tell what day is today (the 10th) using `date_number` and `days` via algebra in `Python`?"
   ]
  },
  {
   "cell_type": "code",
   "execution_count": 2,
   "metadata": {
    "collapsed": true
   },
   "outputs": [],
   "source": [
    "date_number = 10"
   ]
  },
  {
   "cell_type": "code",
   "execution_count": null,
   "metadata": {
    "collapsed": true
   },
   "outputs": [],
   "source": [
    "day_index = \n",
    "day_today = days[day_index]\n",
    "print(day_today)"
   ]
  },
  {
   "cell_type": "markdown",
   "metadata": {},
   "source": [
    "Given the `day_index` you just calculated, how does it tell you what breakfast meal prep is it for the day?"
   ]
  },
  {
   "cell_type": "code",
   "execution_count": null,
   "metadata": {
    "collapsed": true
   },
   "outputs": [],
   "source": [
    "breakfast_today = \n",
    "print(breakfast_today)"
   ]
  },
  {
   "cell_type": "markdown",
   "metadata": {},
   "source": [
    "What are the weekday breakfast preps?"
   ]
  },
  {
   "cell_type": "code",
   "execution_count": null,
   "metadata": {
    "collapsed": true
   },
   "outputs": [],
   "source": [
    "week_start = \n",
    "week_end = \n",
    "breakfasts_weekday = breakfasts[week_start:week_end]\n",
    "print(breakfasts_weekday)"
   ]
  },
  {
   "cell_type": "markdown",
   "metadata": {},
   "source": [
    "After researching how much calories are in each meal prep, you now have a list of calories per serving. "
   ]
  },
  {
   "cell_type": "code",
   "execution_count": 3,
   "metadata": {
    "collapsed": true
   },
   "outputs": [],
   "source": [
    "calories_per_serving = [210, 340, 450, 150, 71.6, 90, 0]"
   ]
  },
  {
   "cell_type": "markdown",
   "metadata": {},
   "source": [
    "However for better understanding, you would like to get a list of calories per *meal*. Usually you have half of the serving of the waffles and 2 servings of yogurts. Please copy the `calories_per_serving` into `calories_per_meal`, and modify the two elements of the list as described above."
   ]
  },
  {
   "cell_type": "code",
   "execution_count": null,
   "metadata": {
    "collapsed": true
   },
   "outputs": [],
   "source": [
    "calories_per_meal = \n",
    "calories_per_meal[3] = \n",
    "calories_per_meal[5] = \n",
    "print(calories_per_meal)"
   ]
  },
  {
   "cell_type": "markdown",
   "metadata": {},
   "source": [
    "# Challenge Question of Challenge Question\n",
    "## Understanding your data\n",
    "### Goal: preview \"packages and function\" in DataCamp, "
   ]
  },
  {
   "cell_type": "markdown",
   "metadata": {},
   "source": [
    "You also realize that the calorie information of Sunday is not informative. Maybe use the average calorie from Monday to Saturaday? From basics of statistics you know, the mean is the sum of calories from Monday to Saturday divided by the number of days. In `Python`, there are functions called `sum()` and `len()` to calculate the sum of a subset of list and to find out the length of a list, respectively. Try filling in the cell below:"
   ]
  },
  {
   "cell_type": "code",
   "execution_count": null,
   "metadata": {
    "collapsed": true
   },
   "outputs": [],
   "source": [
    "average_Mon_Sat = sum(calories_per_meal[]) / len(calories_per_meal[])\n",
    "print(average_Mon_Sat)"
   ]
  },
  {
   "cell_type": "markdown",
   "metadata": {},
   "source": [
    "Now put the result into the `calories_per_meal` list."
   ]
  },
  {
   "cell_type": "code",
   "execution_count": null,
   "metadata": {
    "collapsed": true
   },
   "outputs": [],
   "source": [
    "calories_per_meal[6] = average_Mon_Sat\n",
    "print(calories_per_meal)"
   ]
  },
  {
   "cell_type": "markdown",
   "metadata": {},
   "source": [
    "### Just some example of what your result could be visualized as we learn Python down the road...\n",
    "Run the cell below! See what 4 lines of code can do in Python."
   ]
  },
  {
   "cell_type": "code",
   "execution_count": null,
   "metadata": {
    "collapsed": true
   },
   "outputs": [],
   "source": [
    "import matplotlib.pyplot as plt\n",
    "%matplotlib inline\n",
    "plt.bar(range(7), calories_per_meal)\n",
    "plt.xticks(range(7), days)"
   ]
  },
  {
   "cell_type": "markdown",
   "metadata": {},
   "source": [
    "What you can see from the bar plot?"
   ]
  }
 ],
 "metadata": {
  "kernelspec": {
   "display_name": "Python 3",
   "language": "python",
   "name": "python3"
  },
  "language_info": {
   "codemirror_mode": {
    "name": "ipython",
    "version": 3
   },
   "file_extension": ".py",
   "mimetype": "text/x-python",
   "name": "python",
   "nbconvert_exporter": "python",
   "pygments_lexer": "ipython3",
   "version": "3.6.0"
  }
 },
 "nbformat": 4,
 "nbformat_minor": 2
}
