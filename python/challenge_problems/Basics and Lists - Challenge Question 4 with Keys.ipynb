{
 "cells": [
  {
   "cell_type": "markdown",
   "metadata": {},
   "source": [
    "# Meal prep of the week"
   ]
  },
  {
   "cell_type": "code",
   "execution_count": 30,
   "metadata": {
    "collapsed": true
   },
   "outputs": [],
   "source": [
    "days = ['Monday', 'Tuesday', 'Wednesday', 'Thursday', 'Friday', 'Saturday', 'Sunday']\n",
    "breakfasts = ['Hash brown', 'Breakfast burrito', 'Pancake', 'Waffle', 'Oatmeal', 'Yogurt', 'Random']"
   ]
  },
  {
   "cell_type": "markdown",
   "metadata": {},
   "source": [
    "We know that the 1st day of October, 2017 was a Sunday. Can you tell what day is today (the 10th) using `date_number` and `days` via algebra in `Python`?"
   ]
  },
  {
   "cell_type": "code",
   "execution_count": 31,
   "metadata": {
    "collapsed": true
   },
   "outputs": [],
   "source": [
    "date_number = 10"
   ]
  },
  {
   "cell_type": "code",
   "execution_count": 32,
   "metadata": {
    "collapsed": false
   },
   "outputs": [
    {
     "name": "stdout",
     "output_type": "stream",
     "text": [
      "Tuesday\n"
     ]
    }
   ],
   "source": [
    "day_index = (date_number + 6) % 7 - 1\n",
    "day_today = days[day_index]\n",
    "print(day_today)"
   ]
  },
  {
   "cell_type": "markdown",
   "metadata": {},
   "source": [
    "Given the `day_index` you just calculated, how does it tell you what breakfast meal prep is it for the day?"
   ]
  },
  {
   "cell_type": "code",
   "execution_count": 33,
   "metadata": {
    "collapsed": false
   },
   "outputs": [
    {
     "name": "stdout",
     "output_type": "stream",
     "text": [
      "Breakfast burrito\n"
     ]
    }
   ],
   "source": [
    "breakfast_today = breakfasts[day_index]\n",
    "print(breakfast_today)"
   ]
  },
  {
   "cell_type": "markdown",
   "metadata": {},
   "source": [
    "What are the weekday breakfast preps?"
   ]
  },
  {
   "cell_type": "code",
   "execution_count": 34,
   "metadata": {
    "collapsed": false
   },
   "outputs": [
    {
     "name": "stdout",
     "output_type": "stream",
     "text": [
      "['Hash brown', 'Breakfast burrito', 'Pancake', 'Waffle', 'Oatmeal']\n"
     ]
    }
   ],
   "source": [
    "week_start = 0\n",
    "week_end = 5\n",
    "breakfasts_weekday = breakfasts[week_start:week_end]\n",
    "print(breakfasts_weekday)"
   ]
  },
  {
   "cell_type": "markdown",
   "metadata": {},
   "source": [
    "After researching how much calories are in each meal prep, you now have a list of calories per serving. However for better understanding, you would like to get a list of calories per *meal*. Usually you have half of the serving of the waffles and 2 servings of yogurts. Please copy the `calories_per_serving` into `calories_per_meal`, and modify the two elements of the list as described above."
   ]
  },
  {
   "cell_type": "code",
   "execution_count": 35,
   "metadata": {
    "collapsed": true
   },
   "outputs": [],
   "source": [
    "calories_per_serving = [210, 340, 450, 150, 71.6, 90, 0]"
   ]
  },
  {
   "cell_type": "code",
   "execution_count": 36,
   "metadata": {
    "collapsed": false
   },
   "outputs": [
    {
     "name": "stdout",
     "output_type": "stream",
     "text": [
      "[210, 340, 450, 75.0, 71.6, 450, 0]\n"
     ]
    }
   ],
   "source": [
    "calories_per_meal = calories_per_serving[:]\n",
    "calories_per_meal[3] = calories_per_meal[3] / 2\n",
    "calories_per_meal[5] = calories_per_meal[5] * 5\n",
    "print(calories_per_meal)"
   ]
  },
  {
   "cell_type": "markdown",
   "metadata": {},
   "source": [
    "You also realize that the calorie information of Sunday is not informative. Maybe use the average calorie from Monday to Saturaday? From basics of statistics you know, the mean is the sum of calories from Monday to Saturday divided by the number of days. In `Python`, there are functions called `sum()` and `len()` to calculate the sum of a subset of list and to find out the length of a list, respectively. Try filling in the cell below:"
   ]
  },
  {
   "cell_type": "code",
   "execution_count": 37,
   "metadata": {
    "collapsed": false
   },
   "outputs": [
    {
     "name": "stdout",
     "output_type": "stream",
     "text": [
      "266.09999999999997\n"
     ]
    }
   ],
   "source": [
    "average_Mon_Sat = sum(calories_per_meal[0:6]) / len(calories_per_meal[0:6])\n",
    "print(average_Mon_Sat)"
   ]
  },
  {
   "cell_type": "markdown",
   "metadata": {},
   "source": [
    "Now put the result into the `calories_per_meal` list."
   ]
  },
  {
   "cell_type": "code",
   "execution_count": 38,
   "metadata": {
    "collapsed": false
   },
   "outputs": [
    {
     "name": "stdout",
     "output_type": "stream",
     "text": [
      "[210, 340, 450, 75.0, 71.6, 450, 266.09999999999997]\n"
     ]
    }
   ],
   "source": [
    "calories_per_meal[6] = average_Mon_Sat\n",
    "print(calories_per_meal)"
   ]
  },
  {
   "cell_type": "markdown",
   "metadata": {},
   "source": [
    "## Just some example of what your result could be visualized as we learn Python down the road...\n",
    "Run the cell below! See what 4 lines of code can do in Python."
   ]
  },
  {
   "cell_type": "code",
   "execution_count": 43,
   "metadata": {
    "collapsed": false
   },
   "outputs": [
    {
     "data": {
      "text/plain": [
       "([<matplotlib.axis.XTick at 0x1e387484e48>,\n",
       "  <matplotlib.axis.XTick at 0x1e387457400>,\n",
       "  <matplotlib.axis.XTick at 0x1e387423940>,\n",
       "  <matplotlib.axis.XTick at 0x1e386f08518>,\n",
       "  <matplotlib.axis.XTick at 0x1e3873f77f0>,\n",
       "  <matplotlib.axis.XTick at 0x1e3873f7cc0>,\n",
       "  <matplotlib.axis.XTick at 0x1e3873fc3c8>],\n",
       " <a list of 7 Text xticklabel objects>)"
      ]
     },
     "execution_count": 43,
     "metadata": {},
     "output_type": "execute_result"
    },
    {
     "data": {
      "image/png": "[encoded data removed]",
      "text/plain": [
       "<matplotlib.figure.Figure at 0x1e3876c2080>"
      ]
     },
     "metadata": {},
     "output_type": "display_data"
    }
   ],
   "source": [
    "import matplotlib.pyplot as plt\n",
    "%matplotlib inline\n",
    "plt.bar(range(7), calories_per_meal)\n",
    "plt.xticks(range(7), days)"
   ]
  },
  {
   "cell_type": "markdown",
   "metadata": {},
   "source": [
    "What you can see from the bar plot?"
   ]
  },
  {
   "cell_type": "code",
   "execution_count": null,
   "metadata": {
    "collapsed": true
   },
   "outputs": [],
   "source": []
  }
 ],
 "metadata": {
  "kernelspec": {
   "display_name": "Python 3",
   "language": "python",
   "name": "python3"
  },
  "language_info": {
   "codemirror_mode": {
    "name": "ipython",
    "version": 3
   },
   "file_extension": ".py",
   "mimetype": "text/x-python",
   "name": "python",
   "nbconvert_exporter": "python",
   "pygments_lexer": "ipython3",
   "version": "3.6.0"
  }
 },
 "nbformat": 4,
 "nbformat_minor": 2
}
