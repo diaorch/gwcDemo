{
 "cells": [
  {
   "cell_type": "markdown",
   "metadata": {},
   "source": [
    "# Basics and Lists: Challenge Question 3\n",
    "## Spelling\n",
    "### Goal: practice declaring variables, accessing items in a list and printing messages to the screen"
   ]
  },
  {
   "cell_type": "markdown",
   "metadata": {},
   "source": [
    "\n",
    "![image.png](http://4.bp.blogspot.com/-rWqaOSusHS8/V4rqkjApEyI/AAAAAAAALf8/8y0ZBJLdvAYI9dPwAVWnvgQlRs2pUIhlwCK4B/s1600/letters%2Bnumbers%2Balphabet%2Bchart.jpg)\n",
    "\n",
    "HINT: Remember where python indexing starts from"
   ]
  },
  {
   "cell_type": "code",
   "execution_count": 1,
   "metadata": {
    "collapsed": true
   },
   "outputs": [],
   "source": [
    "alphabet_list = [\"a\", \"b\", \"c\", \"d\", \"e\", \"f\", \"g\", \"h\",\"i\", \"j\", \"k\", \"l\", \"m\", \"n\",\"o\", \"p\", \"q\", \"r\", \"s\", \"t\", \"u\", \"v\", \"w\", \"x\", \"y\", \"z\"]"
   ]
  },
  {
   "cell_type": "code",
   "execution_count": 15,
   "metadata": {
    "collapsed": false
   },
   "outputs": [
    {
     "name": "stdout",
     "output_type": "stream",
     "text": [
      "['a', 'e', 'i', 'o', 'u']\n"
     ]
    }
   ],
   "source": [
    "#Using what you learned about list subsetting, create a list of the vowels (a, e i, o, u) called \"vowels\"\n",
    "vowels = [alphabet_list[0], alphabet_list[4], alphabet_list[8], alphabet_list[14], alphabet_list[20]]\n"
   ]
  },
  {
   "cell_type": "code",
   "execution_count": 38,
   "metadata": {
    "collapsed": false
   },
   "outputs": [
    {
     "name": "stdout",
     "output_type": "stream",
     "text": [
      "['b', 'c', 'd', 'e', 'f', 'g', 'h', 'i', 'j', 'k', 'l', 'm', 'n', 'o', 'p', 'q', 'r', 's', 't', 'u', 'v', 'w', 'x', 'y', 'z']\n",
      "['b', 'c', 'd', 'f', 'g', 'h', 'i', 'j', 'k', 'l', 'm', 'n', 'o', 'p', 'q', 'r', 's', 't', 'u', 'v', 'w', 'x', 'y', 'z']\n",
      "['b', 'c', 'd', 'f', 'g', 'h', 'j', 'k', 'l', 'm', 'n', 'o', 'p', 'q', 'r', 's', 't', 'u', 'v', 'w', 'x', 'y', 'z']\n",
      "['b', 'c', 'd', 'f', 'g', 'h', 'j', 'k', 'l', 'm', 'n', 'p', 'q', 'r', 's', 't', 'u', 'v', 'w', 'x', 'y', 'z']\n",
      "['b', 'c', 'd', 'f', 'g', 'h', 'j', 'k', 'l', 'm', 'n', 'p', 'q', 'r', 's', 't', 'v', 'w', 'x', 'y', 'z']\n"
     ]
    }
   ],
   "source": [
    "#Use alphabet_list to create a list of consonants WITHOUT writing them all out yourself\n",
    "#Hint: use copy and deletion \n",
    "#Remember, after you delete each element, the indexing changes\n",
    "\n",
    "consonants = list(alphabet_list)\n",
    "del(consonants[0])\n",
    "print(consonants)\n",
    "del(consonants[3])\n",
    "print(consonants)\n",
    "del(consonants[6])\n",
    "print(consonants)\n",
    "\n",
    "del(consonants[11])\n",
    "print(consonants)\n",
    "del(consonants[16])\n",
    "print(consonants)\n",
    "\n"
   ]
  },
  {
   "cell_type": "code",
   "execution_count": 41,
   "metadata": {
    "collapsed": false
   },
   "outputs": [
    {
     "name": "stdout",
     "output_type": "stream",
     "text": [
      "[['a', 'e', 'i', 'o', 'u'], ['b', 'c', 'd', 'f', 'g', 'h', 'j', 'k', 'l', 'm', 'n', 'p', 'q', 'r', 's', 't', 'v', 'w', 'x', 'y', 'z']]\n"
     ]
    }
   ],
   "source": [
    "#Create a list-of-lists containing your lists of vowels and consonants \n",
    "LOL = [vowels, consonants]\n",
    "print(LOL)"
   ]
  },
  {
   "cell_type": "code",
   "execution_count": 45,
   "metadata": {
    "collapsed": false
   },
   "outputs": [
    {
     "name": "stdout",
     "output_type": "stream",
     "text": [
      "steph\n",
      "steph\n"
     ]
    }
   ],
   "source": [
    "#spell your name using your alphabet lists\n",
    "print(alphabet_list[18]+alphabet_list[19]+vowels[1]+alphabet_list[15]+alphabet_list[7])\n",
    "\n",
    "#spell your name using your LOL\n",
    "print(LOL[1][14]+LOL[1][15]+LOL[0][1]+LOL[1][11]+LOL[1][5])"
   ]
  },
  {
   "cell_type": "code",
   "execution_count": 24,
   "metadata": {
    "collapsed": false
   },
   "outputs": [
    {
     "name": "stdout",
     "output_type": "stream",
     "text": [
      "['a', 'b', 'c', 'd', 'e', 'f', 'g', 'h', 'i', 'j', 'k', 'l', 'm', 'n', 'o', 'p', 'q', 'r', 's', 't', 'u', 'v', 'w', 'x', 'y', 'z', 'th', 'st', 'ed', 'er']\n"
     ]
    }
   ],
   "source": [
    "#add common letter pairings (th, st, ed, and er) to alphabet_list \n",
    "letters_and_combos = alphabet_list + ['th', 'st', 'ed', 'er']\n",
    "print(letters_and_combos)"
   ]
  },
  {
   "cell_type": "code",
   "execution_count": null,
   "metadata": {
    "collapsed": true
   },
   "outputs": [],
   "source": [
    "#spell a word using the comm"
   ]
  }
 ],
 "metadata": {
  "kernelspec": {
   "display_name": "Python 3",
   "language": "python",
   "name": "python3"
  },
  "language_info": {
   "codemirror_mode": {
    "name": "ipython",
    "version": 3
   },
   "file_extension": ".py",
   "mimetype": "text/x-python",
   "name": "python",
   "nbconvert_exporter": "python",
   "pygments_lexer": "ipython3",
   "version": "3.6.0"
  }
 },
 "nbformat": 4,
 "nbformat_minor": 2
}
