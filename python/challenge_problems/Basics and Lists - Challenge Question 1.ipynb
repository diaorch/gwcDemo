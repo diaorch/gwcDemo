{
 "cells": [
  {
   "cell_type": "markdown",
   "metadata": {},
   "source": [
    "# Mad Libs\n",
    "### Goal: practice declaring variables, accessing items in a list and printing messages to the screen \n",
    "\n",
    "In this challenge, you will utilize lists and variables to create your own mad libs game. \n",
    "\n",
    "First, define some variables (e.g. nouns, adjectives, verbs, etc.) to store the words you'll use to fill in your blanks. Use lists if you'll have more than one word of the same type:"
   ]
  },
  {
   "cell_type": "code",
   "execution_count": null,
   "metadata": {
    "collapsed": true
   },
   "outputs": [],
   "source": [
    "nouns = [] #fill in your nounds in the list\n",
    "adjectives = [] # fill in your adjectives in the list\n",
    "verb = #fill in your verb here\n",
    "\n",
    "#HINT: the variables above are an example, you may need to change\n",
    "#      so that it makes sense with your chosen mad libs text\n",
    "#HINT: remember what you need in order to define string varaiables!"
   ]
  },
  {
   "cell_type": "markdown",
   "metadata": {},
   "source": [
    "Next, you want to print out your mad libs using the print() function"
   ]
  },
  {
   "cell_type": "code",
   "execution_count": null,
   "metadata": {
    "collapsed": true
   },
   "outputs": [],
   "source": [
    "\"Roses are \", first adjective \n",
    "first noun, \"are blue\"\n",
    "second noun, \"is \", second adjective\n",
    "\"and so are you!\"\n",
    "\n",
    "#HINT: remember how python is indexed\n",
    "#HINT: how do we make stuff show up to the screen?"
   ]
  }
 ],
 "metadata": {
  "anaconda-cloud": {},
  "kernelspec": {
   "display_name": "Python [conda root]",
   "language": "python",
   "name": "conda-root-py"
  },
  "language_info": {
   "codemirror_mode": {
    "name": "ipython",
    "version": 2
   },
   "file_extension": ".py",
   "mimetype": "text/x-python",
   "name": "python",
   "nbconvert_exporter": "python",
   "pygments_lexer": "ipython2",
   "version": "2.7.12"
  }
 },
 "nbformat": 4,
 "nbformat_minor": 1
}
