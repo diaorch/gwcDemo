{
 "cells": [
  {
   "cell_type": "markdown",
   "metadata": {},
   "source": [
    "# Car Depreciation\n",
    "### Goal : practice accessing items in a list, type casting, and simple mathematical calculations\n",
    "\n",
    "In this challenge, you will calculate the depreciated value of a car over three years, considering a fixed depreciation rate of 10.4% per year.\n",
    "\n",
    "First, we define a list with the starting prices of three cars:"
   ]
  },
  {
   "cell_type": "code",
   "execution_count": null,
   "metadata": {
    "collapsed": true
   },
   "outputs": [],
   "source": [
    "cars = [\"24599.99\",\"32366.67\",\"18755.89\"]\n",
    "\n",
    "#HINT: what variable type is contained within cars?\n",
    "#      what variable type do we want to perform our calculations?"
   ]
  },
  {
   "cell_type": "markdown",
   "metadata": {},
   "source": [
    "Considering a depreciation rate of 10.4% each year, calculate the value of each car in the list after 3 years. Save each value with the variable names car1_value, car2_value, car3_value"
   ]
  },
  {
   "cell_type": "code",
   "execution_count": null,
   "metadata": {
    "collapsed": true
   },
   "outputs": [],
   "source": [
    "# fill in the code below to calculate the proper values\n",
    "car1_value = \n",
    "car2_value = \n",
    "car3_value = "
   ]
  },
  {
   "cell_type": "markdown",
   "metadata": {},
   "source": [
    "HINT: for x years and depreciation rate = DR:\n",
    "\n",
    "value = start_price - (start_price * DR) - (start_price * DR)^2 - ... - (start_price * DR)^x"
   ]
  }
 ],
 "metadata": {
  "kernelspec": {
   "display_name": "Python [conda root]",
   "language": "python",
   "name": "conda-root-py"
  },
  "language_info": {
   "codemirror_mode": {
    "name": "ipython",
    "version": 2
   },
   "file_extension": ".py",
   "mimetype": "text/x-python",
   "name": "python",
   "nbconvert_exporter": "python",
   "pygments_lexer": "ipython2",
   "version": "2.7.12"
  }
 },
 "nbformat": 4,
 "nbformat_minor": 1
}
